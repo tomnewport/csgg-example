{
 "cells": [
  {
   "cell_type": "code",
   "execution_count": 48,
   "id": "477c092f-dbd6-40a5-b7e8-c2a0de6c2a42",
   "metadata": {},
   "outputs": [],
   "source": [
    "import MDAnalysis\n",
    "import MDAnalysis.transformations\n",
    "import requests\n",
    "from os import mkdir, path\n",
    "from pathlib import Path\n",
    "from matplotlib import pyplot as plt\n",
    "import imageio\n",
    "from IPython.display import Video\n",
    "import nglview\n",
    "import numpy"
   ]
  },
  {
   "cell_type": "code",
   "execution_count": 2,
   "id": "f1b4619d-8218-459c-a5a4-6880b9631df6",
   "metadata": {},
   "outputs": [],
   "source": [
    "PDB_DIR = Path(\"./pdb/\")"
   ]
  },
  {
   "cell_type": "code",
   "execution_count": 3,
   "id": "fc8723c2-b516-4c3c-be18-3b5194eb232e",
   "metadata": {},
   "outputs": [],
   "source": [
    "def download_pdb(pdb_id: str):\n",
    "    if not path.isdir(PDB_DIR):\n",
    "        mkdir(PDB_DIR)\n",
    "    download_path = PDB_DIR / f\"{pdb_id}.pdb\"\n",
    "    source_url = f\"https://files.rcsb.org/download/{pdb_id}.pdb\"\n",
    "    \n",
    "    with requests.get(source_url, stream=True) as response:\n",
    "        response.raise_for_status()\n",
    "        with open(download_path, 'wb') as f:\n",
    "            for chunk in response.iter_content(chunk_size=8192): \n",
    "                f.write(chunk)\n",
    "\n",
    "    return download_path"
   ]
  },
  {
   "cell_type": "code",
   "execution_count": 19,
   "id": "128b748d-4b48-4788-aaa6-7c1bf718078d",
   "metadata": {},
   "outputs": [],
   "source": [
    "filename = download_pdb(\"4UV3\")"
   ]
  },
  {
   "cell_type": "code",
   "execution_count": 43,
   "id": "cffbfacf-324d-4345-b481-0dc819befa1f",
   "metadata": {},
   "outputs": [
    {
     "data": {
      "application/vnd.jupyter.widget-view+json": {
       "model_id": "c87e41fea60d49dabfcee36f750d1d15",
       "version_major": 2,
       "version_minor": 0
      },
      "text/plain": [
       "NGLWidget()"
      ]
     },
     "metadata": {},
     "output_type": "display_data"
    }
   ],
   "source": [
    "universe = MDAnalysis.Universe(filename)\n",
    "pore = universe.select_atoms(\"chainid A B C D E F G H I\")\n",
    "\n",
    "view = nglview.show_mdanalysis(pore)\n",
    "view.clear_representations()\n",
    "view.add_cartoon(opacity=0.2)\n",
    "view.add_licorice(selection=\"51-56\")\n",
    "\n",
    "view"
   ]
  },
  {
   "cell_type": "code",
   "execution_count": 20,
   "id": "cb777f8f-faa5-458f-9b95-28730d7c307f",
   "metadata": {},
   "outputs": [
    {
     "name": "stdout",
     "output_type": "stream",
     "text": [
      "Help on function show_mdanalysis in module nglview.show:\n",
      "\n",
      "show_mdanalysis(atomgroup, **kwargs)\n",
      "    Show NGL widget with MDAnalysis AtomGroup.\n",
      "    \n",
      "    Can take either a Universe or AtomGroup as its data input.\n",
      "    \n",
      "    Examples\n",
      "    --------\n",
      "    >>> import nglview as nv # doctest: +SKIP\n",
      "    ... import MDAnalysis as mda\n",
      "    ... u = mda.Universe(nv.datafiles.GRO, nv.datafiles.XTC)\n",
      "    ... prot = u.select_atoms('protein')\n",
      "    ... w = nv.show_mdanalysis(prot)\n",
      "    ... w\n",
      "\n"
     ]
    }
   ],
   "source": [
    "help(nglview.show_mdanalysis)"
   ]
  },
  {
   "cell_type": "code",
   "execution_count": 108,
   "id": "03d53f49-83c3-427d-9b5c-6291635e3e1f",
   "metadata": {},
   "outputs": [
    {
     "data": {
      "text/html": [
       "<video src=\"test.mp4\" controls  >\n",
       "      Your browser does not support the <code>video</code> element.\n",
       "    </video>"
      ],
      "text/plain": [
       "<IPython.core.display.Video object>"
      ]
     },
     "execution_count": 108,
     "metadata": {},
     "output_type": "execute_result"
    }
   ],
   "source": [
    "universe = MDAnalysis.Universe(filename)\n",
    "with imageio.get_writer('test.mp4', fps=20) as video:\n",
    "\n",
    "    for _ in range(360):\n",
    "        MDAnalysis.transformations.rotate.rotateby(1, direction=[1, 0, 0], ag=universe.atoms)(universe.trajectory.ts)\n",
    "        plt.figure(figsize=[5.12, 5.12])\n",
    "        plt.xlim(-100, 100)\n",
    "        plt.ylim(-50, 150)\n",
    "        for chain in \"ABCDEFGHI\":\n",
    "            selection = universe.select_atoms(f\"backbone and chainid {chain}\")\n",
    "            plt.plot(selection.positions[:, 1], selection.positions[:, 0])\n",
    "\n",
    "        plt.savefig(\"temp.png\")\n",
    "        video.append_data(imageio.v2.imread(\"temp.png\"))\n",
    "        plt.close()\n",
    "\n",
    "Video(\"test.mp4\")"
   ]
  },
  {
   "cell_type": "code",
   "execution_count": 107,
   "id": "f5d16d5c-acff-4a5a-b964-8f8314ad7466",
   "metadata": {},
   "outputs": [
    {
     "data": {
      "text/html": [
       "<video src=\"slices.mp4\" controls  >\n",
       "      Your browser does not support the <code>video</code> element.\n",
       "    </video>"
      ],
      "text/plain": [
       "<IPython.core.display.Video object>"
      ]
     },
     "execution_count": 107,
     "metadata": {},
     "output_type": "execute_result"
    }
   ],
   "source": [
    "universe = MDAnalysis.Universe(filename).select_atoms(\"chainid A B C D E F G H I\")\n",
    "positions = universe.atoms.positions\n",
    "\n",
    "slice_centre = 41\n",
    "slice_thickness = 4\n",
    "\n",
    "\n",
    "with imageio.get_writer('slices.mp4', fps=20) as video:\n",
    "\n",
    "    for slice_centre in numpy.linspace(-20, 120, 240):\n",
    "        behind = positions[(positions[:, 2] < slice_centre + slice_thickness)]\n",
    "        sliced = positions[(positions[:, 2] < slice_centre + slice_thickness) & (positions[:, 2] > slice_centre - slice_thickness)]\n",
    "        \n",
    "        plt.figure(figsize=[5.12, 5.12])\n",
    "        plt.xlim(-30, 110)\n",
    "        plt.ylim(-60, 10)\n",
    "\n",
    "        plt.scatter(behind[:,0], behind[:,1], color=\"cyan\", alpha=0.05)\n",
    "        plt.scatter(sliced[:,0], sliced[:,1], color=\"blue\", alpha=0.1)\n",
    "\n",
    "        plt.savefig(\"temp.png\")\n",
    "        video.append_data(imageio.v2.imread(\"temp.png\"))\n",
    "        plt.close()\n",
    "\n",
    "Video(\"slices.mp4\")"
   ]
  },
  {
   "cell_type": "code",
   "execution_count": 94,
   "id": "7b61dd71-ca95-42e0-baa3-8f821eb49828",
   "metadata": {},
   "outputs": [
    {
     "data": {
      "text/plain": [
       "array([ 0.,  5., 10.])"
      ]
     },
     "execution_count": 94,
     "metadata": {},
     "output_type": "execute_result"
    }
   ],
   "source": [
    "numpy.linspace(0, 10, 3)"
   ]
  },
  {
   "cell_type": "code",
   "execution_count": null,
   "id": "ae0d91e6-e0c4-48ae-96b9-d6aa3ccb551a",
   "metadata": {},
   "outputs": [],
   "source": []
  }
 ],
 "metadata": {
  "kernelspec": {
   "display_name": "Python 3 (ipykernel)",
   "language": "python",
   "name": "python3"
  },
  "language_info": {
   "codemirror_mode": {
    "name": "ipython",
    "version": 3
   },
   "file_extension": ".py",
   "mimetype": "text/x-python",
   "name": "python",
   "nbconvert_exporter": "python",
   "pygments_lexer": "ipython3",
   "version": "3.10.3"
  }
 },
 "nbformat": 4,
 "nbformat_minor": 5
}
